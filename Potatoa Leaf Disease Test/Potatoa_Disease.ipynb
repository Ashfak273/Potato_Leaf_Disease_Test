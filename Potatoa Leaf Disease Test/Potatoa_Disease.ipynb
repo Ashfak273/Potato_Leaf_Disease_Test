{
  "nbformat": 4,
  "nbformat_minor": 0,
  "metadata": {
    "colab": {
      "provenance": []
    },
    "kernelspec": {
      "name": "python3",
      "display_name": "Python 3"
    },
    "language_info": {
      "name": "python"
    }
  },
  "cells": [
    {
      "cell_type": "markdown",
      "source": [
        "# **Installing the necessary libraries**"
      ],
      "metadata": {
        "id": "o90sGwQyYsGc"
      }
    },
    {
      "cell_type": "code",
      "execution_count": 1,
      "metadata": {
        "id": "CyC3zOHiXKxC"
      },
      "outputs": [],
      "source": [
        "import numpy as np\n",
        "import matplotlib.pyplot as plt\n",
        "import glob\n",
        "import cv2\n",
        "import os\n",
        "import matplotlib.image as mpimg\n",
        "import random\n",
        "from sklearn import preprocessing\n",
        "import tensorflow.keras as keras\n",
        "import tensorflow as tf\n",
        "from keras.preprocessing.image import ImageDataGenerator\n",
        "from tensorflow.keras.utils import to_categorical"
      ]
    },
    {
      "cell_type": "code",
      "source": [
        "import zipfile\n",
        "\n",
        "# Unzip the dataset\n",
        "local_zip = '/content/potato_data.zip'\n",
        "zip_ref = zipfile.ZipFile(local_zip, 'r')\n",
        "zip_ref.extractall('/content/potato_data')\n",
        "zip_ref.close()"
      ],
      "metadata": {
        "id": "RNb6JYmiSnHv"
      },
      "execution_count": 2,
      "outputs": []
    },
    {
      "cell_type": "markdown",
      "source": [
        "# **static variables to aid us in our progress**"
      ],
      "metadata": {
        "id": "5eADM-CEY1Ac"
      }
    },
    {
      "cell_type": "code",
      "source": [
        "SIZE = 256\n",
        "SEED_TRAINING = 121\n",
        "SEED_TESTING = 197\n",
        "SEED_VALIDATION = 164\n",
        "CHANNELS = 3\n",
        "n_classes = 3\n",
        "EPOCHS = 10\n",
        "BATCH_SIZE = 16\n",
        "input_shape = (SIZE, SIZE, CHANNELS)"
      ],
      "metadata": {
        "id": "z7VEOzhnYuFn"
      },
      "execution_count": 3,
      "outputs": []
    },
    {
      "cell_type": "markdown",
      "source": [
        "# **Augmentation that we will use on our training dataset**"
      ],
      "metadata": {
        "id": "CHfBBWhcZAhr"
      }
    },
    {
      "cell_type": "code",
      "source": [
        "train_datagen = ImageDataGenerator(\n",
        "        rescale = 1./255,\n",
        "        rotation_range = 30,\n",
        "        shear_range = 0.2,\n",
        "        zoom_range = 0.2,\n",
        "        width_shift_range=0.05,\n",
        "        height_shift_range=0.05,\n",
        "        horizontal_flip = True,\n",
        "        fill_mode = 'nearest')"
      ],
      "metadata": {
        "id": "CZ9h86_SZCZT"
      },
      "execution_count": 4,
      "outputs": []
    },
    {
      "cell_type": "code",
      "source": [
        "validation_datagen = ImageDataGenerator(rescale=1./255)\n",
        "test_datagen = ImageDataGenerator(rescale = 1./255)"
      ],
      "metadata": {
        "id": "nMrNZEggZiEt"
      },
      "execution_count": 5,
      "outputs": []
    },
    {
      "cell_type": "code",
      "source": [
        "train_generator = train_datagen.flow_from_directory(\n",
        "        directory = '/content/potato_data/Potato/Train/',  # this is the input directory\n",
        "        target_size = (256, 256),  # all images will be resized to 64x64\n",
        "        batch_size = BATCH_SIZE,\n",
        "        class_mode = 'categorical',\n",
        "        color_mode=\"rgb\")\n",
        "validation_generator = validation_datagen.flow_from_directory(\n",
        "        '/content/potato_data/Potato/Valid/',\n",
        "        target_size = (256, 256),\n",
        "        batch_size = BATCH_SIZE,\n",
        "        class_mode='categorical',\n",
        "        color_mode=\"rgb\")\n",
        "test_generator = test_datagen.flow_from_directory(\n",
        "        '/content/potato_data/Potato/Test',\n",
        "        target_size = (256, 256),\n",
        "        batch_size = BATCH_SIZE,\n",
        "        class_mode = 'categorical',\n",
        "        color_mode = \"rgb\"\n",
        ")"
      ],
      "metadata": {
        "colab": {
          "base_uri": "https://localhost:8080/"
        },
        "id": "qaJ261vjahZ_",
        "outputId": "f77b90e0-858b-41f6-c6a0-9e27f5922cbb"
      },
      "execution_count": 6,
      "outputs": [
        {
          "output_type": "stream",
          "name": "stdout",
          "text": [
            "Found 900 images belonging to 3 classes.\n",
            "Found 300 images belonging to 3 classes.\n",
            "Found 300 images belonging to 3 classes.\n"
          ]
        }
      ]
    },
    {
      "cell_type": "markdown",
      "source": [
        "# **Convolutional Neural Network Architecture**"
      ],
      "metadata": {
        "id": "5UQdtaVlapWX"
      }
    },
    {
      "cell_type": "code",
      "source": [
        "model = keras.models.Sequential([\n",
        "        keras.layers.Conv2D(32, (3,3), activation = 'relu', input_shape = input_shape),\n",
        "        keras.layers.MaxPooling2D((2, 2)),\n",
        "        keras.layers.Dropout(0.5),\n",
        "\n",
        "        keras.layers.Conv2D(64, (3,3), activation = 'relu', padding = 'same'),\n",
        "        keras.layers.MaxPooling2D((2,2)),\n",
        "        keras.layers.Dropout(0.5),\n",
        "\n",
        "        keras.layers.Conv2D(64, (3,3), activation = 'relu', padding = 'same'),\n",
        "        keras.layers.MaxPooling2D((2,2)),\n",
        "\n",
        "        keras.layers.Conv2D(64, (3,3), activation = 'relu', padding = 'same'),\n",
        "        keras.layers.MaxPooling2D((2,2)),\n",
        "\n",
        "        keras.layers.Conv2D(64, (3,3), activation = 'relu', padding = 'same'),\n",
        "        keras.layers.MaxPooling2D((2,2)),\n",
        "\n",
        "        keras.layers.Conv2D(64, (3,3), activation = 'relu', padding = 'same'),\n",
        "        keras.layers.MaxPooling2D((2,2)),\n",
        "\n",
        "        keras.layers.Flatten(),\n",
        "        keras.layers.Dense(32, activation ='relu'),\n",
        "        keras.layers.Dense(n_classes, activation='softmax')\n",
        "    ])"
      ],
      "metadata": {
        "id": "54tRdxUNarll"
      },
      "execution_count": 7,
      "outputs": []
    },
    {
      "cell_type": "code",
      "source": [
        "model.summary()"
      ],
      "metadata": {
        "id": "EV6SLSxWax2l",
        "colab": {
          "base_uri": "https://localhost:8080/"
        },
        "outputId": "c583d510-9275-4d1d-9bc9-31ee8a04d41e"
      },
      "execution_count": 8,
      "outputs": [
        {
          "output_type": "stream",
          "name": "stdout",
          "text": [
            "Model: \"sequential\"\n",
            "_________________________________________________________________\n",
            " Layer (type)                Output Shape              Param #   \n",
            "=================================================================\n",
            " conv2d (Conv2D)             (None, 254, 254, 32)      896       \n",
            "                                                                 \n",
            " max_pooling2d (MaxPooling2  (None, 127, 127, 32)      0         \n",
            " D)                                                              \n",
            "                                                                 \n",
            " dropout (Dropout)           (None, 127, 127, 32)      0         \n",
            "                                                                 \n",
            " conv2d_1 (Conv2D)           (None, 127, 127, 64)      18496     \n",
            "                                                                 \n",
            " max_pooling2d_1 (MaxPoolin  (None, 63, 63, 64)        0         \n",
            " g2D)                                                            \n",
            "                                                                 \n",
            " dropout_1 (Dropout)         (None, 63, 63, 64)        0         \n",
            "                                                                 \n",
            " conv2d_2 (Conv2D)           (None, 63, 63, 64)        36928     \n",
            "                                                                 \n",
            " max_pooling2d_2 (MaxPoolin  (None, 31, 31, 64)        0         \n",
            " g2D)                                                            \n",
            "                                                                 \n",
            " conv2d_3 (Conv2D)           (None, 31, 31, 64)        36928     \n",
            "                                                                 \n",
            " max_pooling2d_3 (MaxPoolin  (None, 15, 15, 64)        0         \n",
            " g2D)                                                            \n",
            "                                                                 \n",
            " conv2d_4 (Conv2D)           (None, 15, 15, 64)        36928     \n",
            "                                                                 \n",
            " max_pooling2d_4 (MaxPoolin  (None, 7, 7, 64)          0         \n",
            " g2D)                                                            \n",
            "                                                                 \n",
            " conv2d_5 (Conv2D)           (None, 7, 7, 64)          36928     \n",
            "                                                                 \n",
            " max_pooling2d_5 (MaxPoolin  (None, 3, 3, 64)          0         \n",
            " g2D)                                                            \n",
            "                                                                 \n",
            " flatten (Flatten)           (None, 576)               0         \n",
            "                                                                 \n",
            " dense (Dense)               (None, 32)                18464     \n",
            "                                                                 \n",
            " dense_1 (Dense)             (None, 3)                 99        \n",
            "                                                                 \n",
            "=================================================================\n",
            "Total params: 185667 (725.26 KB)\n",
            "Trainable params: 185667 (725.26 KB)\n",
            "Non-trainable params: 0 (0.00 Byte)\n",
            "_________________________________________________________________\n"
          ]
        }
      ]
    },
    {
      "cell_type": "markdown",
      "source": [
        "# **Compile**"
      ],
      "metadata": {
        "id": "Wfw-p2Rsa1dF"
      }
    },
    {
      "cell_type": "code",
      "source": [
        "model.compile(\n",
        "    optimizer = 'adam',\n",
        "    loss = tf.keras.losses.CategoricalCrossentropy(),\n",
        "    metrics  = ['accuracy']\n",
        "    )"
      ],
      "metadata": {
        "id": "QVp4ai_-a3U_"
      },
      "execution_count": 9,
      "outputs": []
    },
    {
      "cell_type": "markdown",
      "source": [
        "# **Train the network**"
      ],
      "metadata": {
        "id": "IX3YOruRa9J4"
      }
    },
    {
      "cell_type": "code",
      "source": [
        "history = model.fit_generator(\n",
        "        train_generator,\n",
        "        steps_per_epoch = train_generator.n // train_generator.batch_size,    #The 2 slashes division return rounded integer\n",
        "        epochs = EPOCHS,\n",
        "        validation_data = validation_generator,\n",
        "        validation_steps = validation_generator.n // validation_generator.batch_size\n",
        "        )"
      ],
      "metadata": {
        "id": "a7FNqvc7a-eL",
        "colab": {
          "base_uri": "https://localhost:8080/"
        },
        "outputId": "01d16f6d-f8bf-4e7b-f4a2-d85dfcd8a960"
      },
      "execution_count": 10,
      "outputs": [
        {
          "output_type": "stream",
          "name": "stderr",
          "text": [
            "<ipython-input-10-31a96307dfca>:1: UserWarning: `Model.fit_generator` is deprecated and will be removed in a future version. Please use `Model.fit`, which supports generators.\n",
            "  history = model.fit_generator(\n"
          ]
        },
        {
          "output_type": "stream",
          "name": "stdout",
          "text": [
            "Epoch 1/10\n",
            "56/56 [==============================] - 141s 2s/step - loss: 0.8784 - accuracy: 0.5373 - val_loss: 0.4885 - val_accuracy: 0.8194\n",
            "Epoch 2/10\n",
            "56/56 [==============================] - 132s 2s/step - loss: 0.4686 - accuracy: 0.7998 - val_loss: 0.3066 - val_accuracy: 0.8958\n",
            "Epoch 3/10\n",
            "56/56 [==============================] - 129s 2s/step - loss: 0.3808 - accuracy: 0.8428 - val_loss: 0.3996 - val_accuracy: 0.8715\n",
            "Epoch 4/10\n",
            "56/56 [==============================] - 132s 2s/step - loss: 0.3088 - accuracy: 0.8790 - val_loss: 0.4167 - val_accuracy: 0.8472\n",
            "Epoch 5/10\n",
            "56/56 [==============================] - 140s 2s/step - loss: 0.2583 - accuracy: 0.9005 - val_loss: 0.2683 - val_accuracy: 0.8854\n",
            "Epoch 6/10\n",
            "56/56 [==============================] - 137s 2s/step - loss: 0.2172 - accuracy: 0.9106 - val_loss: 0.3642 - val_accuracy: 0.8611\n",
            "Epoch 7/10\n",
            "56/56 [==============================] - 132s 2s/step - loss: 0.2545 - accuracy: 0.9005 - val_loss: 0.2305 - val_accuracy: 0.9167\n",
            "Epoch 8/10\n",
            "56/56 [==============================] - 129s 2s/step - loss: 0.2990 - accuracy: 0.9005 - val_loss: 0.4681 - val_accuracy: 0.8646\n",
            "Epoch 9/10\n",
            "56/56 [==============================] - 131s 2s/step - loss: 0.2374 - accuracy: 0.8824 - val_loss: 0.4218 - val_accuracy: 0.8229\n",
            "Epoch 10/10\n",
            "56/56 [==============================] - 138s 2s/step - loss: 0.2144 - accuracy: 0.9152 - val_loss: 0.2539 - val_accuracy: 0.9028\n"
          ]
        }
      ]
    },
    {
      "cell_type": "markdown",
      "source": [
        "# **Model performs on the test data**"
      ],
      "metadata": {
        "id": "OIWy88PkbFZ6"
      }
    },
    {
      "cell_type": "code",
      "source": [
        "score = model.evaluate_generator(test_generator)\n",
        "print(\"Test loss : \", score[0])\n",
        "print(\"Test accuracy : \", score[1])"
      ],
      "metadata": {
        "id": "LwdXoXcubEfq",
        "colab": {
          "base_uri": "https://localhost:8080/"
        },
        "outputId": "e33574fd-9f80-4090-ca9c-15acb600f754"
      },
      "execution_count": 12,
      "outputs": [
        {
          "output_type": "stream",
          "name": "stderr",
          "text": [
            "<ipython-input-12-4e3d4fee77a5>:1: UserWarning: `Model.evaluate_generator` is deprecated and will be removed in a future version. Please use `Model.evaluate`, which supports generators.\n",
            "  score = model.evaluate_generator(test_generator)\n"
          ]
        },
        {
          "output_type": "stream",
          "name": "stdout",
          "text": [
            "Test loss :  0.24267470836639404\n",
            "Test accuracy :  0.9366666674613953\n"
          ]
        }
      ]
    },
    {
      "cell_type": "markdown",
      "source": [
        "# **Let’s have a look at the history parameter**"
      ],
      "metadata": {
        "id": "7tZBSNOVbTny"
      }
    },
    {
      "cell_type": "code",
      "source": [
        "acc = history.history['accuracy']\n",
        "val_acc = history.history['val_accuracy']\n",
        "loss = history.history['loss']\n",
        "val_loss = history.history['val_loss']\n",
        "plt.figure(figsize=(8, 8))\n",
        "plt.subplot(1, 2, 1)\n",
        "plt.plot(range(EPOCHS), acc, label='Training Accuracy')\n",
        "plt.plot(range(EPOCHS), val_acc, label='Validation Accuracy')\n",
        "plt.legend(loc='lower right')\n",
        "plt.title('Training and Validation Accuracy')\n",
        "plt.subplot(1, 2, 2)\n",
        "plt.plot(range(EPOCHS), loss, label='Training Loss')\n",
        "plt.plot(range(EPOCHS), val_loss, label='Validation Loss')\n",
        "plt.legend(loc='upper right')\n",
        "plt.title('Training and Validation Loss')\n",
        "plt.show()"
      ],
      "metadata": {
        "id": "zHDAaDMCbVez",
        "colab": {
          "base_uri": "https://localhost:8080/",
          "height": 699
        },
        "outputId": "5da59a5d-4fda-40ae-c7c3-9fbefc0d60be"
      },
      "execution_count": 13,
      "outputs": [
        {
          "output_type": "display_data",
          "data": {
            "text/plain": [
              "<Figure size 800x800 with 2 Axes>"
            ],
            "image/png": "[encoded data removed]"
          },
          "metadata": {}
        }
      ]
    },
    {
      "cell_type": "markdown",
      "source": [
        "# **Let's save our model**"
      ],
      "metadata": {
        "id": "rFYO-PhtbcFT"
      }
    },
    {
      "cell_type": "code",
      "source": [
        "#hdf5 format\n",
        "model.save('final_model.h5')"
      ],
      "metadata": {
        "id": "nwC_Eb61bdZR",
        "colab": {
          "base_uri": "https://localhost:8080/"
        },
        "outputId": "ade8a7de-b702-44cb-b6d1-0fbb243822a1"
      },
      "execution_count": 14,
      "outputs": [
        {
          "output_type": "stream",
          "name": "stderr",
          "text": [
            "/usr/local/lib/python3.10/dist-packages/keras/src/engine/training.py:3103: UserWarning: You are saving your model as an HDF5 file via `model.save()`. This file format is considered legacy. We recommend using instead the native Keras format, e.g. `model.save('my_model.keras')`.\n",
            "  saving_api.save_model(\n"
          ]
        }
      ]
    },
    {
      "cell_type": "markdown",
      "source": [],
      "metadata": {
        "id": "HnXkWN4lB-Dg"
      }
    },
    {
      "cell_type": "markdown",
      "source": [],
      "metadata": {
        "id": "2OAMqvpDB-GJ"
      }
    }
  ]
}